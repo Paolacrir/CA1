{
 "cells": [
  {
   "cell_type": "code",
   "execution_count": 1,
   "id": "3c95ef82",
   "metadata": {},
   "outputs": [],
   "source": [
    "import pandas as pd\n",
    "import numpy as np\n",
    "import seaborn as sns\n",
    "from scipy import stats\n",
    "import matplotlib.pyplot as plt\n",
    "from empiricaldist import Pmf, Cdf\n",
    "from matplotlib.ticker import PercentFormatter\n",
    "\n",
    "import warnings\n",
    "warnings.filterwarnings(\"ignore\")"
   ]
  },
  {
   "cell_type": "code",
   "execution_count": 2,
   "id": "1418b10b",
   "metadata": {},
   "outputs": [],
   "source": [
    "Child_mortality =pd.read_csv(\"Infant and Neonatal Mortality.csv\")"
   ]
  },
  {
   "cell_type": "code",
   "execution_count": 3,
   "id": "c0c74eac",
   "metadata": {},
   "outputs": [
    {
     "data": {
      "text/html": [
       "<div>\n",
       "<style scoped>\n",
       "    .dataframe tbody tr th:only-of-type {\n",
       "        vertical-align: middle;\n",
       "    }\n",
       "\n",
       "    .dataframe tbody tr th {\n",
       "        vertical-align: top;\n",
       "    }\n",
       "\n",
       "    .dataframe thead th {\n",
       "        text-align: right;\n",
       "    }\n",
       "</style>\n",
       "<table border=\"1\" class=\"dataframe\">\n",
       "  <thead>\n",
       "    <tr style=\"text-align: right;\">\n",
       "      <th></th>\n",
       "      <th>Statistic Label</th>\n",
       "      <th>Year</th>\n",
       "      <th>Age Range</th>\n",
       "      <th>Principal Cause of Death</th>\n",
       "      <th>Area</th>\n",
       "      <th>UNIT</th>\n",
       "      <th>VALUE</th>\n",
       "    </tr>\n",
       "  </thead>\n",
       "  <tbody>\n",
       "    <tr>\n",
       "      <th>0</th>\n",
       "      <td>Deaths</td>\n",
       "      <td>1980</td>\n",
       "      <td>Infant (0-1 year)</td>\n",
       "      <td>Infectious and parasitic diseases</td>\n",
       "      <td>Carlow</td>\n",
       "      <td>Number</td>\n",
       "      <td>NaN</td>\n",
       "    </tr>\n",
       "    <tr>\n",
       "      <th>1</th>\n",
       "      <td>Deaths</td>\n",
       "      <td>1980</td>\n",
       "      <td>Infant (0-1 year)</td>\n",
       "      <td>Infectious and parasitic diseases</td>\n",
       "      <td>Dublin City and County</td>\n",
       "      <td>Number</td>\n",
       "      <td>5.0</td>\n",
       "    </tr>\n",
       "    <tr>\n",
       "      <th>2</th>\n",
       "      <td>Deaths</td>\n",
       "      <td>1980</td>\n",
       "      <td>Infant (0-1 year)</td>\n",
       "      <td>Infectious and parasitic diseases</td>\n",
       "      <td>Kildare</td>\n",
       "      <td>Number</td>\n",
       "      <td>NaN</td>\n",
       "    </tr>\n",
       "    <tr>\n",
       "      <th>3</th>\n",
       "      <td>Deaths</td>\n",
       "      <td>1980</td>\n",
       "      <td>Infant (0-1 year)</td>\n",
       "      <td>Infectious and parasitic diseases</td>\n",
       "      <td>Kilkenny</td>\n",
       "      <td>Number</td>\n",
       "      <td>1.0</td>\n",
       "    </tr>\n",
       "    <tr>\n",
       "      <th>4</th>\n",
       "      <td>Deaths</td>\n",
       "      <td>1980</td>\n",
       "      <td>Infant (0-1 year)</td>\n",
       "      <td>Infectious and parasitic diseases</td>\n",
       "      <td>Laois</td>\n",
       "      <td>Number</td>\n",
       "      <td>NaN</td>\n",
       "    </tr>\n",
       "  </tbody>\n",
       "</table>\n",
       "</div>"
      ],
      "text/plain": [
       "  Statistic Label  Year          Age Range           Principal Cause of Death  \\\n",
       "0          Deaths  1980  Infant (0-1 year)  Infectious and parasitic diseases   \n",
       "1          Deaths  1980  Infant (0-1 year)  Infectious and parasitic diseases   \n",
       "2          Deaths  1980  Infant (0-1 year)  Infectious and parasitic diseases   \n",
       "3          Deaths  1980  Infant (0-1 year)  Infectious and parasitic diseases   \n",
       "4          Deaths  1980  Infant (0-1 year)  Infectious and parasitic diseases   \n",
       "\n",
       "                     Area    UNIT  VALUE  \n",
       "0                  Carlow  Number    NaN  \n",
       "1  Dublin City and County  Number    5.0  \n",
       "2                 Kildare  Number    NaN  \n",
       "3                Kilkenny  Number    1.0  \n",
       "4                   Laois  Number    NaN  "
      ]
     },
     "execution_count": 3,
     "metadata": {},
     "output_type": "execute_result"
    }
   ],
   "source": [
    "Child_mortality.head()"
   ]
  },
  {
   "cell_type": "code",
   "execution_count": 4,
   "id": "2bdd5efa",
   "metadata": {},
   "outputs": [],
   "source": [
    "missing_value_formats = [\"n.a.\",\"?\",\"NA\",\"n/a\", \"na\", \"-\"]\n",
    "Child_mortality = pd.read_csv(\"Infant and Neonatal Mortality.csv\", na_values = missing_value_formats,  dtype={'VALUE': float})"
   ]
  },
  {
   "cell_type": "code",
   "execution_count": 5,
   "id": "0a86cb5f",
   "metadata": {},
   "outputs": [
    {
     "name": "stdout",
     "output_type": "stream",
     "text": [
      "0    NaN\n",
      "1    5.0\n",
      "2    3.0\n",
      "3    1.0\n",
      "4    1.0\n",
      "5    1.0\n",
      "6    1.0\n",
      "7    1.0\n",
      "8    1.0\n",
      "9    1.0\n",
      "Name: VALUE, dtype: float64\n"
     ]
    }
   ],
   "source": [
    "##Using interpolation to handle missing values\n",
    "Child_mortality['VALUE'].interpolate(method='linear', direction = 'forward', inplace=True) \n",
    "print(Child_mortality['VALUE'].head(10)) "
   ]
  },
  {
   "cell_type": "code",
   "execution_count": 6,
   "id": "4843dbad",
   "metadata": {},
   "outputs": [
    {
     "data": {
      "text/plain": [
       "Statistic Label             67391\n",
       "Year                        67391\n",
       "Age Range                   67391\n",
       "Principal Cause of Death    67391\n",
       "Area                        67391\n",
       "UNIT                        67391\n",
       "VALUE                       67391\n",
       "dtype: int64"
      ]
     },
     "execution_count": 6,
     "metadata": {},
     "output_type": "execute_result"
    }
   ],
   "source": [
    "Child_mortality = Child_mortality.dropna()\n",
    "Child_mortality.count() \n"
   ]
  },
  {
   "cell_type": "code",
   "execution_count": 7,
   "id": "dace8399",
   "metadata": {},
   "outputs": [
    {
     "data": {
      "text/plain": [
       "Statistic Label             0\n",
       "Year                        0\n",
       "Age Range                   0\n",
       "Principal Cause of Death    0\n",
       "Area                        0\n",
       "UNIT                        0\n",
       "VALUE                       0\n",
       "dtype: int64"
      ]
     },
     "execution_count": 7,
     "metadata": {},
     "output_type": "execute_result"
    }
   ],
   "source": [
    "Child_mortality.isnull().sum()"
   ]
  },
  {
   "cell_type": "markdown",
   "id": "52525166",
   "metadata": {},
   "source": [
    "## Exploratory Data Analysis"
   ]
  },
  {
   "cell_type": "code",
   "execution_count": 8,
   "id": "93598b96",
   "metadata": {},
   "outputs": [
    {
     "data": {
      "text/plain": [
       "1        5.0000\n",
       "2        3.0000\n",
       "3        1.0000\n",
       "4        1.0000\n",
       "5        1.0000\n",
       "          ...  \n",
       "67387    1.0425\n",
       "67388    1.2900\n",
       "67389    1.2900\n",
       "67390    1.2900\n",
       "67391    1.2900\n",
       "Name: VALUE, Length: 67391, dtype: float64"
      ]
     },
     "execution_count": 8,
     "metadata": {},
     "output_type": "execute_result"
    }
   ],
   "source": [
    "# Calculare media, median, standar deviation\n",
    "Value = Child_mortality[\"VALUE\"]\n",
    "Value"
   ]
  },
  {
   "cell_type": "code",
   "execution_count": 9,
   "id": "6f8717c0",
   "metadata": {},
   "outputs": [],
   "source": [
    "Number = Child_mortality.loc[Child_mortality['UNIT']=='Number']\n",
    "rate = Child_mortality.loc[Child_mortality['UNIT']=='Rate' ] "
   ]
  },
  {
   "cell_type": "code",
   "execution_count": 10,
   "id": "6f1c3df6",
   "metadata": {},
   "outputs": [
    {
     "data": {
      "text/plain": [
       "(33695, 10)"
      ]
     },
     "execution_count": 10,
     "metadata": {},
     "output_type": "execute_result"
    }
   ],
   "source": [
    "Mortality_rate = pd.merge(Number, rate, on=[\"Year\",\"Age Range\",\"Principal Cause of Death\", \"Area\", ])\n",
    "Mortality_rate.shape"
   ]
  },
  {
   "cell_type": "code",
   "execution_count": 11,
   "id": "829e7b4d",
   "metadata": {},
   "outputs": [
    {
     "data": {
      "text/html": [
       "<div>\n",
       "<style scoped>\n",
       "    .dataframe tbody tr th:only-of-type {\n",
       "        vertical-align: middle;\n",
       "    }\n",
       "\n",
       "    .dataframe tbody tr th {\n",
       "        vertical-align: top;\n",
       "    }\n",
       "\n",
       "    .dataframe thead th {\n",
       "        text-align: right;\n",
       "    }\n",
       "</style>\n",
       "<table border=\"1\" class=\"dataframe\">\n",
       "  <thead>\n",
       "    <tr style=\"text-align: right;\">\n",
       "      <th></th>\n",
       "      <th>Year</th>\n",
       "      <th>Age Range</th>\n",
       "      <th>Principal Cause of Death</th>\n",
       "      <th>Area</th>\n",
       "      <th>VALUE_x</th>\n",
       "      <th>VALUE_y</th>\n",
       "    </tr>\n",
       "  </thead>\n",
       "  <tbody>\n",
       "    <tr>\n",
       "      <th>0</th>\n",
       "      <td>1980</td>\n",
       "      <td>Infant (0-1 year)</td>\n",
       "      <td>Infectious and parasitic diseases</td>\n",
       "      <td>Dublin City and County</td>\n",
       "      <td>5.0</td>\n",
       "      <td>0.240</td>\n",
       "    </tr>\n",
       "    <tr>\n",
       "      <th>1</th>\n",
       "      <td>1980</td>\n",
       "      <td>Infant (0-1 year)</td>\n",
       "      <td>Infectious and parasitic diseases</td>\n",
       "      <td>Kildare</td>\n",
       "      <td>3.0</td>\n",
       "      <td>0.475</td>\n",
       "    </tr>\n",
       "    <tr>\n",
       "      <th>2</th>\n",
       "      <td>1980</td>\n",
       "      <td>Infant (0-1 year)</td>\n",
       "      <td>Infectious and parasitic diseases</td>\n",
       "      <td>Kilkenny</td>\n",
       "      <td>1.0</td>\n",
       "      <td>0.710</td>\n",
       "    </tr>\n",
       "    <tr>\n",
       "      <th>3</th>\n",
       "      <td>1980</td>\n",
       "      <td>Infant (0-1 year)</td>\n",
       "      <td>Infectious and parasitic diseases</td>\n",
       "      <td>Laois</td>\n",
       "      <td>1.0</td>\n",
       "      <td>0.645</td>\n",
       "    </tr>\n",
       "    <tr>\n",
       "      <th>4</th>\n",
       "      <td>1980</td>\n",
       "      <td>Infant (0-1 year)</td>\n",
       "      <td>Infectious and parasitic diseases</td>\n",
       "      <td>Longford</td>\n",
       "      <td>1.0</td>\n",
       "      <td>0.580</td>\n",
       "    </tr>\n",
       "  </tbody>\n",
       "</table>\n",
       "</div>"
      ],
      "text/plain": [
       "   Year          Age Range           Principal Cause of Death  \\\n",
       "0  1980  Infant (0-1 year)  Infectious and parasitic diseases   \n",
       "1  1980  Infant (0-1 year)  Infectious and parasitic diseases   \n",
       "2  1980  Infant (0-1 year)  Infectious and parasitic diseases   \n",
       "3  1980  Infant (0-1 year)  Infectious and parasitic diseases   \n",
       "4  1980  Infant (0-1 year)  Infectious and parasitic diseases   \n",
       "\n",
       "                     Area  VALUE_x  VALUE_y  \n",
       "0  Dublin City and County      5.0    0.240  \n",
       "1                 Kildare      3.0    0.475  \n",
       "2                Kilkenny      1.0    0.710  \n",
       "3                   Laois      1.0    0.645  \n",
       "4                Longford      1.0    0.580  "
      ]
     },
     "execution_count": 11,
     "metadata": {},
     "output_type": "execute_result"
    }
   ],
   "source": [
    "#drop columns\n",
    "\n",
    "Mortality_rate = Mortality_rate.drop([\"Statistic Label_y\", \"UNIT_x\", \"UNIT_y\",\"Statistic Label_x\"], axis=1)\n",
    "\n",
    "Mortality_rate.head()"
   ]
  },
  {
   "cell_type": "code",
   "execution_count": 12,
   "id": "51298604",
   "metadata": {},
   "outputs": [
    {
     "data": {
      "text/html": [
       "<div>\n",
       "<style scoped>\n",
       "    .dataframe tbody tr th:only-of-type {\n",
       "        vertical-align: middle;\n",
       "    }\n",
       "\n",
       "    .dataframe tbody tr th {\n",
       "        vertical-align: top;\n",
       "    }\n",
       "\n",
       "    .dataframe thead th {\n",
       "        text-align: right;\n",
       "    }\n",
       "</style>\n",
       "<table border=\"1\" class=\"dataframe\">\n",
       "  <thead>\n",
       "    <tr style=\"text-align: right;\">\n",
       "      <th></th>\n",
       "      <th>Year</th>\n",
       "      <th>Age Range</th>\n",
       "      <th>Principal Cause of Death</th>\n",
       "      <th>Area</th>\n",
       "      <th>Number</th>\n",
       "      <th>Rate</th>\n",
       "    </tr>\n",
       "  </thead>\n",
       "  <tbody>\n",
       "    <tr>\n",
       "      <th>0</th>\n",
       "      <td>1980</td>\n",
       "      <td>Infant (0-1 year)</td>\n",
       "      <td>Infectious and parasitic diseases</td>\n",
       "      <td>Dublin City and County</td>\n",
       "      <td>5.0</td>\n",
       "      <td>0.240</td>\n",
       "    </tr>\n",
       "    <tr>\n",
       "      <th>1</th>\n",
       "      <td>1980</td>\n",
       "      <td>Infant (0-1 year)</td>\n",
       "      <td>Infectious and parasitic diseases</td>\n",
       "      <td>Kildare</td>\n",
       "      <td>3.0</td>\n",
       "      <td>0.475</td>\n",
       "    </tr>\n",
       "    <tr>\n",
       "      <th>2</th>\n",
       "      <td>1980</td>\n",
       "      <td>Infant (0-1 year)</td>\n",
       "      <td>Infectious and parasitic diseases</td>\n",
       "      <td>Kilkenny</td>\n",
       "      <td>1.0</td>\n",
       "      <td>0.710</td>\n",
       "    </tr>\n",
       "    <tr>\n",
       "      <th>3</th>\n",
       "      <td>1980</td>\n",
       "      <td>Infant (0-1 year)</td>\n",
       "      <td>Infectious and parasitic diseases</td>\n",
       "      <td>Laois</td>\n",
       "      <td>1.0</td>\n",
       "      <td>0.645</td>\n",
       "    </tr>\n",
       "    <tr>\n",
       "      <th>4</th>\n",
       "      <td>1980</td>\n",
       "      <td>Infant (0-1 year)</td>\n",
       "      <td>Infectious and parasitic diseases</td>\n",
       "      <td>Longford</td>\n",
       "      <td>1.0</td>\n",
       "      <td>0.580</td>\n",
       "    </tr>\n",
       "  </tbody>\n",
       "</table>\n",
       "</div>"
      ],
      "text/plain": [
       "   Year          Age Range           Principal Cause of Death  \\\n",
       "0  1980  Infant (0-1 year)  Infectious and parasitic diseases   \n",
       "1  1980  Infant (0-1 year)  Infectious and parasitic diseases   \n",
       "2  1980  Infant (0-1 year)  Infectious and parasitic diseases   \n",
       "3  1980  Infant (0-1 year)  Infectious and parasitic diseases   \n",
       "4  1980  Infant (0-1 year)  Infectious and parasitic diseases   \n",
       "\n",
       "                     Area  Number   Rate  \n",
       "0  Dublin City and County     5.0  0.240  \n",
       "1                 Kildare     3.0  0.475  \n",
       "2                Kilkenny     1.0  0.710  \n",
       "3                   Laois     1.0  0.645  \n",
       "4                Longford     1.0  0.580  "
      ]
     },
     "execution_count": 12,
     "metadata": {},
     "output_type": "execute_result"
    }
   ],
   "source": [
    "Mortality_rate = Mortality_rate.rename(columns={\"Statistic Label_x\":\"Statistic Label\", \"VALUE_x\": \"Number\", \"VALUE_y\":\"Rate\" })\n",
    "Mortality_rate.head()"
   ]
  },
  {
   "cell_type": "code",
   "execution_count": 13,
   "id": "eb608972",
   "metadata": {},
   "outputs": [],
   "source": [
    "Number = Mortality_rate[\"Number\"]\n",
    "Rate = Mortality_rate[\"Rate\"]"
   ]
  },
  {
   "cell_type": "code",
   "execution_count": 14,
   "id": "05fe285d",
   "metadata": {},
   "outputs": [],
   "source": [
    "def mean(number):\n",
    "    length = len(number)\n",
    "    total_sum = 0\n",
    "    for i in range(length):\n",
    "        total_sum += number[i]\n",
    "    average = total_sum / length\n",
    "    return average"
   ]
  },
  {
   "cell_type": "code",
   "execution_count": 15,
   "id": "1e33617a",
   "metadata": {},
   "outputs": [
    {
     "name": "stdout",
     "output_type": "stream",
     "text": [
      "2.358008250482267\n"
     ]
    }
   ],
   "source": [
    "mean_of_number = mean(Number)\n",
    "print (mean_of_number)"
   ]
  },
  {
   "cell_type": "code",
   "execution_count": 16,
   "id": "d6574a32",
   "metadata": {},
   "outputs": [
    {
     "data": {
      "text/plain": [
       "2.3580082504822677"
      ]
     },
     "execution_count": 16,
     "metadata": {},
     "output_type": "execute_result"
    }
   ],
   "source": [
    "np.mean(Number)"
   ]
  },
  {
   "cell_type": "code",
   "execution_count": 17,
   "id": "5c43629f",
   "metadata": {},
   "outputs": [],
   "source": [
    "def mean(Rate):\n",
    "    length = len(Rate)\n",
    "    total_sum = 0\n",
    "    for i in range(length):\n",
    "        total_sum += Rate[i]\n",
    "    average = total_sum / length\n",
    "    return average"
   ]
  },
  {
   "cell_type": "code",
   "execution_count": 18,
   "id": "0bfb8a1f",
   "metadata": {},
   "outputs": [
    {
     "data": {
      "text/plain": [
       "0.8922985606173006"
      ]
     },
     "execution_count": 18,
     "metadata": {},
     "output_type": "execute_result"
    }
   ],
   "source": [
    "mean_of_rate = mean(Rate)\n",
    "mean_of_rate"
   ]
  },
  {
   "cell_type": "code",
   "execution_count": 19,
   "id": "279958a4",
   "metadata": {},
   "outputs": [
    {
     "data": {
      "text/plain": [
       "0.8922985606173023"
      ]
     },
     "execution_count": 19,
     "metadata": {},
     "output_type": "execute_result"
    }
   ],
   "source": [
    "np.mean(Rate)"
   ]
  },
  {
   "cell_type": "code",
   "execution_count": 20,
   "id": "ca2f0f2f",
   "metadata": {},
   "outputs": [],
   "source": [
    "Number = Mortality_rate[\"Number\"]\n",
    "def variance(number):\n",
    "    length=len(number)\n",
    "    avg=mean(number)\n",
    "    sumsq=0\n",
    "    for i in range(length):\n",
    "        sumsq+=(number[i]-avg)**2\n",
    "    variance=sumsq/length\n",
    "    return variance"
   ]
  },
  {
   "cell_type": "code",
   "execution_count": 21,
   "id": "f7cad58e",
   "metadata": {},
   "outputs": [
    {
     "data": {
      "text/plain": [
       "16.43290664042944"
      ]
     },
     "execution_count": 21,
     "metadata": {},
     "output_type": "execute_result"
    }
   ],
   "source": [
    "variance_of_number = variance(Number)\n",
    "variance_of_number"
   ]
  },
  {
   "cell_type": "code",
   "execution_count": 22,
   "id": "8ef094ee",
   "metadata": {},
   "outputs": [
    {
     "data": {
      "text/plain": [
       "0.7261482004973033"
      ]
     },
     "execution_count": 22,
     "metadata": {},
     "output_type": "execute_result"
    }
   ],
   "source": [
    "variancen_of_rate = variance(Rate)\n",
    "variancen_of_rate"
   ]
  },
  {
   "cell_type": "code",
   "execution_count": 23,
   "id": "f1627414",
   "metadata": {},
   "outputs": [],
   "source": [
    "def std_dev(number):\n",
    "    from math import sqrt\n",
    "    return (sqrt(variance(number)))"
   ]
  },
  {
   "cell_type": "code",
   "execution_count": 24,
   "id": "09afd1ff",
   "metadata": {},
   "outputs": [],
   "source": [
    "def std_dev(Rate):\n",
    "    from math import sqrt\n",
    "    return (sqrt(variance(Rate)))"
   ]
  },
  {
   "cell_type": "code",
   "execution_count": 25,
   "id": "37472a2b",
   "metadata": {},
   "outputs": [
    {
     "data": {
      "text/plain": [
       "4.0537521681066595"
      ]
     },
     "execution_count": 25,
     "metadata": {},
     "output_type": "execute_result"
    }
   ],
   "source": [
    "std_dev_of_number = std_dev(Number)\n",
    "std_dev_of_number "
   ]
  },
  {
   "cell_type": "code",
   "execution_count": 26,
   "id": "fb167724",
   "metadata": {},
   "outputs": [
    {
     "data": {
      "text/plain": [
       "0.8521432981003273"
      ]
     },
     "execution_count": 26,
     "metadata": {},
     "output_type": "execute_result"
    }
   ],
   "source": [
    "std_dev_of_rate = std_dev(Rate)\n",
    "std_dev_of_rate  "
   ]
  },
  {
   "cell_type": "markdown",
   "id": "923d88d7",
   "metadata": {},
   "source": [
    "### Printing maximun and minimun values for Number and Rate "
   ]
  },
  {
   "cell_type": "code",
   "execution_count": 27,
   "id": "69110df3",
   "metadata": {},
   "outputs": [
    {
     "name": "stdout",
     "output_type": "stream",
     "text": [
      "99.0\n",
      "0.544\n"
     ]
    }
   ],
   "source": [
    "print(np.max(Number))\n",
    "print(np.min(Number))"
   ]
  },
  {
   "cell_type": "code",
   "execution_count": 28,
   "id": "a72604cb",
   "metadata": {},
   "outputs": [
    {
     "name": "stdout",
     "output_type": "stream",
     "text": [
      "9.92\n",
      "0.05\n"
     ]
    }
   ],
   "source": [
    "print(np.max(Rate))\n",
    "print(np.min(Rate))"
   ]
  },
  {
   "cell_type": "code",
   "execution_count": 29,
   "id": "d097ec3d",
   "metadata": {},
   "outputs": [
    {
     "name": "stdout",
     "output_type": "stream",
     "text": [
      "0.25th percentile of the Number: 1.0\n",
      "0.5th percentile of the Number: 1.0\n",
      "0.75th percentile of the Number: 2.0\n"
     ]
    }
   ],
   "source": [
    "print(\"0.25th percentile of the Number:\", np.quantile(Number,0.25))\n",
    "print(\"0.5th percentile of the Number:\", np.quantile(Number,0.50))\n",
    "print(\"0.75th percentile of the Number:\", np.quantile(Number,0.75))"
   ]
  },
  {
   "cell_type": "code",
   "execution_count": 30,
   "id": "159ab374",
   "metadata": {},
   "outputs": [
    {
     "name": "stdout",
     "output_type": "stream",
     "text": [
      "0.25th percentile of the Number: 0.37\n",
      "0.5th percentile of the Number: 0.6553846153846153\n",
      "0.75th percentile of the Number: 1.0933333333333333\n"
     ]
    }
   ],
   "source": [
    "print(\"0.25th percentile of the Number:\", np.quantile(Rate,0.25))\n",
    "print(\"0.5th percentile of the Number:\", np.quantile(Rate,0.50))\n",
    "print(\"0.75th percentile of the Number:\", np.quantile(Rate,0.75))"
   ]
  },
  {
   "cell_type": "code",
   "execution_count": 31,
   "id": "cd98196f",
   "metadata": {},
   "outputs": [
    {
     "ename": "NameError",
     "evalue": "name 'pyplot' is not defined",
     "output_type": "error",
     "traceback": [
      "\u001b[1;31m---------------------------------------------------------------------------\u001b[0m",
      "\u001b[1;31mNameError\u001b[0m                                 Traceback (most recent call last)",
      "Cell \u001b[1;32mIn[31], line 1\u001b[0m\n\u001b[1;32m----> 1\u001b[0m pyplot\u001b[38;5;241m.\u001b[39mboxplot(Number, sym\u001b[38;5;241m=\u001b[39m\u001b[38;5;124m'\u001b[39m\u001b[38;5;124m*\u001b[39m\u001b[38;5;124m'\u001b[39m)\n\u001b[0;32m      2\u001b[0m pyplot\u001b[38;5;241m.\u001b[39mtitle(\u001b[38;5;124m\"\u001b[39m\u001b[38;5;124mBox Plot for Number\u001b[39m\u001b[38;5;124m\"\u001b[39m)\n\u001b[0;32m      3\u001b[0m pyplot\u001b[38;5;241m.\u001b[39mshow()\n",
      "\u001b[1;31mNameError\u001b[0m: name 'pyplot' is not defined"
     ]
    }
   ],
   "source": [
    "pyplot.boxplot(Number, sym='*')\n",
    "pyplot.title(\"Box Plot for Number\")\n",
    "pyplot.show()\n",
    "\n",
    "# Create a box plot for the 'Rate' column\n",
    "pyplot.boxplot(Rate, sym='*')\n",
    "pyplot.title(\"Box Plot for Rate\")\n",
    "pyplot.show()"
   ]
  },
  {
   "cell_type": "code",
   "execution_count": 32,
   "id": "461f2e7e",
   "metadata": {},
   "outputs": [
    {
     "data": {
      "text/plain": [
       "1980-01-01   NaN\n",
       "1980-01-01   NaN\n",
       "1980-01-01   NaN\n",
       "1980-01-01   NaN\n",
       "1980-01-01   NaN\n",
       "              ..\n",
       "2018-01-01   NaN\n",
       "2018-01-01   NaN\n",
       "2018-01-01   NaN\n",
       "2018-01-01   NaN\n",
       "2018-01-01   NaN\n",
       "Name: Number, Length: 33695, dtype: float64"
      ]
     },
     "execution_count": 32,
     "metadata": {},
     "output_type": "execute_result"
    }
   ],
   "source": [
    "import pandas as pd\n",
    "import numpy as np\n",
    "\n",
    "Year = Mortality_rate[\"Year\"]\n",
    "Number = Mortality_rate[\"Number\"]\n",
    "\n",
    "ts = pd.Series(Number, index=pd.to_datetime(['1/1/' + str(year) for year in Year]))\n",
    "ts "
   ]
  },
  {
   "cell_type": "code",
   "execution_count": 33,
   "id": "bcd86611",
   "metadata": {},
   "outputs": [
    {
     "ename": "NameError",
     "evalue": "name 'pyplot' is not defined",
     "output_type": "error",
     "traceback": [
      "\u001b[1;31m---------------------------------------------------------------------------\u001b[0m",
      "\u001b[1;31mNameError\u001b[0m                                 Traceback (most recent call last)",
      "Cell \u001b[1;32mIn[33], line 4\u001b[0m\n\u001b[0;32m      2\u001b[0m ts \u001b[38;5;241m=\u001b[39m pd\u001b[38;5;241m.\u001b[39mSeries(np\u001b[38;5;241m.\u001b[39mrandom\u001b[38;5;241m.\u001b[39mrandn(\u001b[38;5;28mlen\u001b[39m(Rate)), index\u001b[38;5;241m=\u001b[39mpd\u001b[38;5;241m.\u001b[39mto_datetime([\u001b[38;5;124m'\u001b[39m\u001b[38;5;124m1/1/\u001b[39m\u001b[38;5;124m'\u001b[39m \u001b[38;5;241m+\u001b[39m \u001b[38;5;28mstr\u001b[39m(year) \u001b[38;5;28;01mfor\u001b[39;00m year \u001b[38;5;129;01min\u001b[39;00m Year]))\n\u001b[0;32m      3\u001b[0m ts\u001b[38;5;241m.\u001b[39mplot()\n\u001b[1;32m----> 4\u001b[0m pyplot\u001b[38;5;241m.\u001b[39mshow()\n",
      "\u001b[1;31mNameError\u001b[0m: name 'pyplot' is not defined"
     ]
    },
    {
     "data": {
      "image/png": "[encoded data removed]",
      "text/plain": [
       "<Figure size 640x480 with 1 Axes>"
      ]
     },
     "metadata": {},
     "output_type": "display_data"
    }
   ],
   "source": [
    "Year= Mortality_rate[\"Year\"]\n",
    "ts = pd.Series(np.random.randn(len(Rate)), index=pd.to_datetime(['1/1/' + str(year) for year in Year]))\n",
    "ts.plot()\n",
    "pyplot.show()"
   ]
  },
  {
   "cell_type": "code",
   "execution_count": 35,
   "id": "7fc5cde8",
   "metadata": {},
   "outputs": [],
   "source": [
    "def label_graph(ticksfont, x_label, y_label, title_label, fontsize):\n",
    "    plt.xticks(fontsize=ticksfont)\n",
    "    plt.yticks(fontsize=ticksfont)\n",
    "    plt.xlabel(x_label, fontsize=fontsize)\n",
    "    plt.ylabel(y_label, fontsize=fontsize)\n",
    "    plt.title(title_label, fontsize=fontsize)"
   ]
  },
  {
   "cell_type": "code",
   "execution_count": 34,
   "id": "69ff5e72",
   "metadata": {},
   "outputs": [
    {
     "ename": "NameError",
     "evalue": "name 'label_graph' is not defined",
     "output_type": "error",
     "traceback": [
      "\u001b[1;31m---------------------------------------------------------------------------\u001b[0m",
      "\u001b[1;31mNameError\u001b[0m                                 Traceback (most recent call last)",
      "Cell \u001b[1;32mIn[34], line 7\u001b[0m\n\u001b[0;32m      5\u001b[0m pmf\u001b[38;5;241m.\u001b[39mbar()\n\u001b[0;32m      6\u001b[0m plt\u001b[38;5;241m.\u001b[39mxticks(rotation\u001b[38;5;241m=\u001b[39m\u001b[38;5;241m90\u001b[39m)\n\u001b[1;32m----> 7\u001b[0m label_graph(\u001b[38;5;241m18\u001b[39m,\u001b[38;5;124m'\u001b[39m\u001b[38;5;124mPrincipal Cause of Death\u001b[39m\u001b[38;5;124m'\u001b[39m, \u001b[38;5;124m'\u001b[39m\u001b[38;5;124mPMF\u001b[39m\u001b[38;5;124m'\u001b[39m, \u001b[38;5;124m'\u001b[39m\u001b[38;5;124mProbability of Cause of Death\u001b[39m\u001b[38;5;124m'\u001b[39m, \u001b[38;5;241m20\u001b[39m)\n",
      "\u001b[1;31mNameError\u001b[0m: name 'label_graph' is not defined"
     ]
    },
    {
     "data": {
      "image/png": "[encoded data removed]",
      "text/plain": [
       "<Figure size 1200x800 with 1 Axes>"
      ]
     },
     "metadata": {},
     "output_type": "display_data"
    }
   ],
   "source": [
    "Cause_of_Death = Mortality_rate[\"Principal Cause of Death\"]\n",
    "\n",
    "fig,ax=plt.subplots(figsize=(12,8))\n",
    "pmf=Pmf.from_seq(Mortality_rate['Principal Cause of Death'])\n",
    "pmf.bar()\n",
    "plt.xticks(rotation=90)\n",
    "label_graph(18,'Principal Cause of Death', 'PMF', 'Probability of Cause of Death', 20)"
   ]
  },
  {
   "cell_type": "code",
   "execution_count": 36,
   "id": "43d1cb8b",
   "metadata": {},
   "outputs": [
    {
     "data": {
      "image/png": "[encoded data removed]",
      "text/plain": [
       "<Figure size 1200x800 with 1 Axes>"
      ]
     },
     "metadata": {},
     "output_type": "display_data"
    }
   ],
   "source": [
    "fig,ax=plt.subplots(figsize=(12,8))\n",
    "pmf=Pmf.from_seq(Mortality_rate['Age Range'])\n",
    "pmf.bar()\n",
    "plt.xticks(rotation=45)\n",
    "label_graph(18,'Principal Cause of Death', 'PMF', 'Probability of Cause of Death', 20)"
   ]
  },
  {
   "cell_type": "code",
   "execution_count": 37,
   "id": "85b1605c",
   "metadata": {},
   "outputs": [
    {
     "data": {
      "text/html": [
       "<div>\n",
       "<style scoped>\n",
       "    .dataframe tbody tr th:only-of-type {\n",
       "        vertical-align: middle;\n",
       "    }\n",
       "\n",
       "    .dataframe tbody tr th {\n",
       "        vertical-align: top;\n",
       "    }\n",
       "\n",
       "    .dataframe thead th {\n",
       "        text-align: right;\n",
       "    }\n",
       "</style>\n",
       "<table border=\"1\" class=\"dataframe\">\n",
       "  <thead>\n",
       "    <tr style=\"text-align: right;\">\n",
       "      <th></th>\n",
       "      <th>0</th>\n",
       "      <th>1</th>\n",
       "      <th>2</th>\n",
       "      <th>3</th>\n",
       "      <th>4</th>\n",
       "      <th>5</th>\n",
       "      <th>6</th>\n",
       "      <th>7</th>\n",
       "      <th>8</th>\n",
       "      <th>9</th>\n",
       "      <th>...</th>\n",
       "      <th>33685</th>\n",
       "      <th>33686</th>\n",
       "      <th>33687</th>\n",
       "      <th>33688</th>\n",
       "      <th>33689</th>\n",
       "      <th>33690</th>\n",
       "      <th>33691</th>\n",
       "      <th>33692</th>\n",
       "      <th>33693</th>\n",
       "      <th>33694</th>\n",
       "    </tr>\n",
       "  </thead>\n",
       "  <tbody>\n",
       "    <tr>\n",
       "      <th>Year</th>\n",
       "      <td>1980</td>\n",
       "      <td>1980</td>\n",
       "      <td>1980</td>\n",
       "      <td>1980</td>\n",
       "      <td>1980</td>\n",
       "      <td>1980</td>\n",
       "      <td>1980</td>\n",
       "      <td>1980</td>\n",
       "      <td>1980</td>\n",
       "      <td>1980</td>\n",
       "      <td>...</td>\n",
       "      <td>2018</td>\n",
       "      <td>2018</td>\n",
       "      <td>2018</td>\n",
       "      <td>2018</td>\n",
       "      <td>2018</td>\n",
       "      <td>2018</td>\n",
       "      <td>2018</td>\n",
       "      <td>2018</td>\n",
       "      <td>2018</td>\n",
       "      <td>2018</td>\n",
       "    </tr>\n",
       "    <tr>\n",
       "      <th>Age Range</th>\n",
       "      <td>Infant (0-1 year)</td>\n",
       "      <td>Infant (0-1 year)</td>\n",
       "      <td>Infant (0-1 year)</td>\n",
       "      <td>Infant (0-1 year)</td>\n",
       "      <td>Infant (0-1 year)</td>\n",
       "      <td>Infant (0-1 year)</td>\n",
       "      <td>Infant (0-1 year)</td>\n",
       "      <td>Infant (0-1 year)</td>\n",
       "      <td>Infant (0-1 year)</td>\n",
       "      <td>Infant (0-1 year)</td>\n",
       "      <td>...</td>\n",
       "      <td>4 weeks to 1 year</td>\n",
       "      <td>4 weeks to 1 year</td>\n",
       "      <td>4 weeks to 1 year</td>\n",
       "      <td>4 weeks to 1 year</td>\n",
       "      <td>4 weeks to 1 year</td>\n",
       "      <td>4 weeks to 1 year</td>\n",
       "      <td>4 weeks to 1 year</td>\n",
       "      <td>4 weeks to 1 year</td>\n",
       "      <td>4 weeks to 1 year</td>\n",
       "      <td>4 weeks to 1 year</td>\n",
       "    </tr>\n",
       "    <tr>\n",
       "      <th>Principal Cause of Death</th>\n",
       "      <td>Infectious and parasitic diseases</td>\n",
       "      <td>Infectious and parasitic diseases</td>\n",
       "      <td>Infectious and parasitic diseases</td>\n",
       "      <td>Infectious and parasitic diseases</td>\n",
       "      <td>Infectious and parasitic diseases</td>\n",
       "      <td>Infectious and parasitic diseases</td>\n",
       "      <td>Infectious and parasitic diseases</td>\n",
       "      <td>Infectious and parasitic diseases</td>\n",
       "      <td>Infectious and parasitic diseases</td>\n",
       "      <td>Infectious and parasitic diseases</td>\n",
       "      <td>...</td>\n",
       "      <td>Sudden infant death syndrome</td>\n",
       "      <td>Sudden infant death syndrome</td>\n",
       "      <td>Sudden infant death syndrome</td>\n",
       "      <td>Sudden infant death syndrome</td>\n",
       "      <td>Sudden infant death syndrome</td>\n",
       "      <td>Sudden infant death syndrome</td>\n",
       "      <td>Sudden infant death syndrome</td>\n",
       "      <td>Sudden infant death syndrome</td>\n",
       "      <td>Sudden infant death syndrome</td>\n",
       "      <td>Sudden infant death syndrome</td>\n",
       "    </tr>\n",
       "    <tr>\n",
       "      <th>Area</th>\n",
       "      <td>Dublin City and County</td>\n",
       "      <td>Kildare</td>\n",
       "      <td>Kilkenny</td>\n",
       "      <td>Laois</td>\n",
       "      <td>Longford</td>\n",
       "      <td>Louth</td>\n",
       "      <td>Meath</td>\n",
       "      <td>Offaly</td>\n",
       "      <td>Westmeath</td>\n",
       "      <td>Wexford</td>\n",
       "      <td>...</td>\n",
       "      <td>South Tipperary</td>\n",
       "      <td>Waterford</td>\n",
       "      <td>Galway</td>\n",
       "      <td>Leitrim</td>\n",
       "      <td>Mayo</td>\n",
       "      <td>Roscommon</td>\n",
       "      <td>Sligo</td>\n",
       "      <td>Cavan</td>\n",
       "      <td>Donegal</td>\n",
       "      <td>Monaghan</td>\n",
       "    </tr>\n",
       "    <tr>\n",
       "      <th>Number</th>\n",
       "      <td>5.0</td>\n",
       "      <td>3.0</td>\n",
       "      <td>1.0</td>\n",
       "      <td>1.0</td>\n",
       "      <td>1.0</td>\n",
       "      <td>1.0</td>\n",
       "      <td>1.0</td>\n",
       "      <td>1.0</td>\n",
       "      <td>1.0</td>\n",
       "      <td>1.0</td>\n",
       "      <td>...</td>\n",
       "      <td>3.0</td>\n",
       "      <td>2.0</td>\n",
       "      <td>1.0</td>\n",
       "      <td>1.0</td>\n",
       "      <td>1.0</td>\n",
       "      <td>1.0</td>\n",
       "      <td>1.0</td>\n",
       "      <td>0.848</td>\n",
       "      <td>0.696</td>\n",
       "      <td>0.544</td>\n",
       "    </tr>\n",
       "    <tr>\n",
       "      <th>Rate</th>\n",
       "      <td>0.24</td>\n",
       "      <td>0.475</td>\n",
       "      <td>0.71</td>\n",
       "      <td>0.645</td>\n",
       "      <td>0.58</td>\n",
       "      <td>0.515</td>\n",
       "      <td>0.45</td>\n",
       "      <td>0.56</td>\n",
       "      <td>0.67</td>\n",
       "      <td>0.44</td>\n",
       "      <td>...</td>\n",
       "      <td>2.59</td>\n",
       "      <td>1.445</td>\n",
       "      <td>0.3</td>\n",
       "      <td>0.5475</td>\n",
       "      <td>0.795</td>\n",
       "      <td>1.0425</td>\n",
       "      <td>1.29</td>\n",
       "      <td>1.29</td>\n",
       "      <td>1.29</td>\n",
       "      <td>1.29</td>\n",
       "    </tr>\n",
       "  </tbody>\n",
       "</table>\n",
       "<p>6 rows × 33695 columns</p>\n",
       "</div>"
      ],
      "text/plain": [
       "                                                      0      \\\n",
       "Year                                                   1980   \n",
       "Age Range                                 Infant (0-1 year)   \n",
       "Principal Cause of Death  Infectious and parasitic diseases   \n",
       "Area                                 Dublin City and County   \n",
       "Number                                                  5.0   \n",
       "Rate                                                   0.24   \n",
       "\n",
       "                                                      1      \\\n",
       "Year                                                   1980   \n",
       "Age Range                                 Infant (0-1 year)   \n",
       "Principal Cause of Death  Infectious and parasitic diseases   \n",
       "Area                                                Kildare   \n",
       "Number                                                  3.0   \n",
       "Rate                                                  0.475   \n",
       "\n",
       "                                                      2      \\\n",
       "Year                                                   1980   \n",
       "Age Range                                 Infant (0-1 year)   \n",
       "Principal Cause of Death  Infectious and parasitic diseases   \n",
       "Area                                               Kilkenny   \n",
       "Number                                                  1.0   \n",
       "Rate                                                   0.71   \n",
       "\n",
       "                                                      3      \\\n",
       "Year                                                   1980   \n",
       "Age Range                                 Infant (0-1 year)   \n",
       "Principal Cause of Death  Infectious and parasitic diseases   \n",
       "Area                                                  Laois   \n",
       "Number                                                  1.0   \n",
       "Rate                                                  0.645   \n",
       "\n",
       "                                                      4      \\\n",
       "Year                                                   1980   \n",
       "Age Range                                 Infant (0-1 year)   \n",
       "Principal Cause of Death  Infectious and parasitic diseases   \n",
       "Area                                               Longford   \n",
       "Number                                                  1.0   \n",
       "Rate                                                   0.58   \n",
       "\n",
       "                                                      5      \\\n",
       "Year                                                   1980   \n",
       "Age Range                                 Infant (0-1 year)   \n",
       "Principal Cause of Death  Infectious and parasitic diseases   \n",
       "Area                                                  Louth   \n",
       "Number                                                  1.0   \n",
       "Rate                                                  0.515   \n",
       "\n",
       "                                                      6      \\\n",
       "Year                                                   1980   \n",
       "Age Range                                 Infant (0-1 year)   \n",
       "Principal Cause of Death  Infectious and parasitic diseases   \n",
       "Area                                                  Meath   \n",
       "Number                                                  1.0   \n",
       "Rate                                                   0.45   \n",
       "\n",
       "                                                      7      \\\n",
       "Year                                                   1980   \n",
       "Age Range                                 Infant (0-1 year)   \n",
       "Principal Cause of Death  Infectious and parasitic diseases   \n",
       "Area                                                 Offaly   \n",
       "Number                                                  1.0   \n",
       "Rate                                                   0.56   \n",
       "\n",
       "                                                      8      \\\n",
       "Year                                                   1980   \n",
       "Age Range                                 Infant (0-1 year)   \n",
       "Principal Cause of Death  Infectious and parasitic diseases   \n",
       "Area                                              Westmeath   \n",
       "Number                                                  1.0   \n",
       "Rate                                                   0.67   \n",
       "\n",
       "                                                      9      ...  \\\n",
       "Year                                                   1980  ...   \n",
       "Age Range                                 Infant (0-1 year)  ...   \n",
       "Principal Cause of Death  Infectious and parasitic diseases  ...   \n",
       "Area                                                Wexford  ...   \n",
       "Number                                                  1.0  ...   \n",
       "Rate                                                   0.44  ...   \n",
       "\n",
       "                                                 33685  \\\n",
       "Year                                              2018   \n",
       "Age Range                            4 weeks to 1 year   \n",
       "Principal Cause of Death  Sudden infant death syndrome   \n",
       "Area                                   South Tipperary   \n",
       "Number                                             3.0   \n",
       "Rate                                              2.59   \n",
       "\n",
       "                                                 33686  \\\n",
       "Year                                              2018   \n",
       "Age Range                            4 weeks to 1 year   \n",
       "Principal Cause of Death  Sudden infant death syndrome   \n",
       "Area                                         Waterford   \n",
       "Number                                             2.0   \n",
       "Rate                                             1.445   \n",
       "\n",
       "                                                 33687  \\\n",
       "Year                                              2018   \n",
       "Age Range                            4 weeks to 1 year   \n",
       "Principal Cause of Death  Sudden infant death syndrome   \n",
       "Area                                            Galway   \n",
       "Number                                             1.0   \n",
       "Rate                                               0.3   \n",
       "\n",
       "                                                 33688  \\\n",
       "Year                                              2018   \n",
       "Age Range                            4 weeks to 1 year   \n",
       "Principal Cause of Death  Sudden infant death syndrome   \n",
       "Area                                           Leitrim   \n",
       "Number                                             1.0   \n",
       "Rate                                            0.5475   \n",
       "\n",
       "                                                 33689  \\\n",
       "Year                                              2018   \n",
       "Age Range                            4 weeks to 1 year   \n",
       "Principal Cause of Death  Sudden infant death syndrome   \n",
       "Area                                              Mayo   \n",
       "Number                                             1.0   \n",
       "Rate                                             0.795   \n",
       "\n",
       "                                                 33690  \\\n",
       "Year                                              2018   \n",
       "Age Range                            4 weeks to 1 year   \n",
       "Principal Cause of Death  Sudden infant death syndrome   \n",
       "Area                                         Roscommon   \n",
       "Number                                             1.0   \n",
       "Rate                                            1.0425   \n",
       "\n",
       "                                                 33691  \\\n",
       "Year                                              2018   \n",
       "Age Range                            4 weeks to 1 year   \n",
       "Principal Cause of Death  Sudden infant death syndrome   \n",
       "Area                                             Sligo   \n",
       "Number                                             1.0   \n",
       "Rate                                              1.29   \n",
       "\n",
       "                                                 33692  \\\n",
       "Year                                              2018   \n",
       "Age Range                            4 weeks to 1 year   \n",
       "Principal Cause of Death  Sudden infant death syndrome   \n",
       "Area                                             Cavan   \n",
       "Number                                           0.848   \n",
       "Rate                                              1.29   \n",
       "\n",
       "                                                 33693  \\\n",
       "Year                                              2018   \n",
       "Age Range                            4 weeks to 1 year   \n",
       "Principal Cause of Death  Sudden infant death syndrome   \n",
       "Area                                           Donegal   \n",
       "Number                                           0.696   \n",
       "Rate                                              1.29   \n",
       "\n",
       "                                                 33694  \n",
       "Year                                              2018  \n",
       "Age Range                            4 weeks to 1 year  \n",
       "Principal Cause of Death  Sudden infant death syndrome  \n",
       "Area                                          Monaghan  \n",
       "Number                                           0.544  \n",
       "Rate                                              1.29  \n",
       "\n",
       "[6 rows x 33695 columns]"
      ]
     },
     "execution_count": 37,
     "metadata": {},
     "output_type": "execute_result"
    }
   ],
   "source": [
    "Mortality_rate.T"
   ]
  },
  {
   "cell_type": "code",
   "execution_count": 38,
   "id": "07fbcfad",
   "metadata": {},
   "outputs": [
    {
     "name": "stdout",
     "output_type": "stream",
     "text": [
      "{'Carlow': [26, 53, 80, 107, 134, 161, 188, 215, 242, 269, 296, 323, 350, 377, 404, 431, 458, 485, 512, 539, 566, 593, 620, 647, 674, 701, 728, 755, 782, 809, 836, 863, 890, 917, 944, 971, 998, 1025, 1052, 1079, 1106, 1133, 1160, 1187, 1214, 1241, 1268, 1295, 1322, 1349, 1376, 1403, 1430, 1457, 1484, 1511, 1538, 1565, 1592, 1619, 1646, 1673, 1700, 1727, 1754, 1781, 1808, 1835, 1862, 1889, 1916, 1943, 1970, 1997, 2024, 2051, 2078, 2105, 2132, 2159, 2186, 2213, 2240, 2267, 2294, 2321, 2348, 2375, 2402, 2429, 2456, 2483, 2510, 2537, 2564, 2591, 2618, 2645, 2672, 2699, ...], 'Cavan': [23, 50, 77, 104, 131, 158, 185, 212, 239, 266, 293, 320, 347, 374, 401, 428, 455, 482, 509, 536, 563, 590, 617, 644, 671, 698, 725, 752, 779, 806, 833, 860, 887, 914, 941, 968, 995, 1022, 1049, 1076, 1103, 1130, 1157, 1184, 1211, 1238, 1265, 1292, 1319, 1346, 1373, 1400, 1427, 1454, 1481, 1508, 1535, 1562, 1589, 1616, 1643, 1670, 1697, 1724, 1751, 1778, 1805, 1832, 1859, 1886, 1913, 1940, 1967, 1994, 2021, 2048, 2075, 2102, 2129, 2156, 2183, 2210, 2237, 2264, 2291, 2318, 2345, 2372, 2399, 2426, 2453, 2480, 2507, 2534, 2561, 2588, 2615, 2642, 2669, 2696, ...], 'Clare': [11, 38, 65, 92, 119, 146, 173, 200, 227, 254, 281, 308, 335, 362, 389, 416, 443, 470, 497, 524, 551, 578, 605, 632, 659, 686, 713, 740, 767, 794, 821, 848, 875, 902, 929, 956, 983, 1010, 1037, 1064, 1091, 1118, 1145, 1172, 1199, 1226, 1253, 1280, 1307, 1334, 1361, 1388, 1415, 1442, 1469, 1496, 1523, 1550, 1577, 1604, 1631, 1658, 1685, 1712, 1739, 1766, 1793, 1820, 1847, 1874, 1901, 1928, 1955, 1982, 2009, 2036, 2063, 2090, 2117, 2144, 2171, 2198, 2225, 2252, 2279, 2306, 2333, 2360, 2387, 2414, 2441, 2468, 2495, 2522, 2549, 2576, 2603, 2630, 2657, 2684, ...], 'Cork': [12, 39, 66, 93, 120, 147, 174, 201, 228, 255, 282, 309, 336, 363, 390, 417, 444, 471, 498, 525, 552, 579, 606, 633, 660, 687, 714, 741, 768, 795, 822, 849, 876, 903, 930, 957, 984, 1011, 1038, 1065, 1092, 1119, 1146, 1173, 1200, 1227, 1254, 1281, 1308, 1335, 1362, 1389, 1416, 1443, 1470, 1497, 1524, 1551, 1578, 1605, 1632, 1659, 1686, 1713, 1740, 1767, 1794, 1821, 1848, 1875, 1902, 1929, 1956, 1983, 2010, 2037, 2064, 2091, 2118, 2145, 2172, 2199, 2226, 2253, 2280, 2307, 2334, 2361, 2388, 2415, 2442, 2469, 2496, 2523, 2550, 2577, 2604, 2631, 2658, 2685, ...], 'Donegal': [24, 51, 78, 105, 132, 159, 186, 213, 240, 267, 294, 321, 348, 375, 402, 429, 456, 483, 510, 537, 564, 591, 618, 645, 672, 699, 726, 753, 780, 807, 834, 861, 888, 915, 942, 969, 996, 1023, 1050, 1077, 1104, 1131, 1158, 1185, 1212, 1239, 1266, 1293, 1320, 1347, 1374, 1401, 1428, 1455, 1482, 1509, 1536, 1563, 1590, 1617, 1644, 1671, 1698, 1725, 1752, 1779, 1806, 1833, 1860, 1887, 1914, 1941, 1968, 1995, 2022, 2049, 2076, 2103, 2130, 2157, 2184, 2211, 2238, 2265, 2292, 2319, 2346, 2373, 2400, 2427, 2454, 2481, 2508, 2535, 2562, 2589, 2616, 2643, 2670, 2697, ...], 'Dublin City and County': [0, 27, 54, 81, 108, 135, 162, 189, 216, 243, 270, 297, 324, 351, 378, 405, 432, 459, 486, 513, 540, 567, 594, 621, 648, 675, 702, 729, 756, 783, 810, 837, 864, 891, 918, 945, 972, 999, 1026, 1053, 1080, 1107, 1134, 1161, 1188, 1215, 1242, 1269, 1296, 1323, 1350, 1377, 1404, 1431, 1458, 1485, 1512, 1539, 1566, 1593, 1620, 1647, 1674, 1701, 1728, 1755, 1782, 1809, 1836, 1863, 1890, 1917, 1944, 1971, 1998, 2025, 2052, 2079, 2106, 2133, 2160, 2187, 2214, 2241, 2268, 2295, 2322, 2349, 2376, 2403, 2430, 2457, 2484, 2511, 2538, 2565, 2592, 2619, 2646, 2673, ...], 'Galway': [18, 45, 72, 99, 126, 153, 180, 207, 234, 261, 288, 315, 342, 369, 396, 423, 450, 477, 504, 531, 558, 585, 612, 639, 666, 693, 720, 747, 774, 801, 828, 855, 882, 909, 936, 963, 990, 1017, 1044, 1071, 1098, 1125, 1152, 1179, 1206, 1233, 1260, 1287, 1314, 1341, 1368, 1395, 1422, 1449, 1476, 1503, 1530, 1557, 1584, 1611, 1638, 1665, 1692, 1719, 1746, 1773, 1800, 1827, 1854, 1881, 1908, 1935, 1962, 1989, 2016, 2043, 2070, 2097, 2124, 2151, 2178, 2205, 2232, 2259, 2286, 2313, 2340, 2367, 2394, 2421, 2448, 2475, 2502, 2529, 2556, 2583, 2610, 2637, 2664, 2691, ...], 'Kerry': [13, 40, 67, 94, 121, 148, 175, 202, 229, 256, 283, 310, 337, 364, 391, 418, 445, 472, 499, 526, 553, 580, 607, 634, 661, 688, 715, 742, 769, 796, 823, 850, 877, 904, 931, 958, 985, 1012, 1039, 1066, 1093, 1120, 1147, 1174, 1201, 1228, 1255, 1282, 1309, 1336, 1363, 1390, 1417, 1444, 1471, 1498, 1525, 1552, 1579, 1606, 1633, 1660, 1687, 1714, 1741, 1768, 1795, 1822, 1849, 1876, 1903, 1930, 1957, 1984, 2011, 2038, 2065, 2092, 2119, 2146, 2173, 2200, 2227, 2254, 2281, 2308, 2335, 2362, 2389, 2416, 2443, 2470, 2497, 2524, 2551, 2578, 2605, 2632, 2659, 2686, ...], 'Kildare': [1, 28, 55, 82, 109, 136, 163, 190, 217, 244, 271, 298, 325, 352, 379, 406, 433, 460, 487, 514, 541, 568, 595, 622, 649, 676, 703, 730, 757, 784, 811, 838, 865, 892, 919, 946, 973, 1000, 1027, 1054, 1081, 1108, 1135, 1162, 1189, 1216, 1243, 1270, 1297, 1324, 1351, 1378, 1405, 1432, 1459, 1486, 1513, 1540, 1567, 1594, 1621, 1648, 1675, 1702, 1729, 1756, 1783, 1810, 1837, 1864, 1891, 1918, 1945, 1972, 1999, 2026, 2053, 2080, 2107, 2134, 2161, 2188, 2215, 2242, 2269, 2296, 2323, 2350, 2377, 2404, 2431, 2458, 2485, 2512, 2539, 2566, 2593, 2620, 2647, 2674, ...], 'Kilkenny': [2, 29, 56, 83, 110, 137, 164, 191, 218, 245, 272, 299, 326, 353, 380, 407, 434, 461, 488, 515, 542, 569, 596, 623, 650, 677, 704, 731, 758, 785, 812, 839, 866, 893, 920, 947, 974, 1001, 1028, 1055, 1082, 1109, 1136, 1163, 1190, 1217, 1244, 1271, 1298, 1325, 1352, 1379, 1406, 1433, 1460, 1487, 1514, 1541, 1568, 1595, 1622, 1649, 1676, 1703, 1730, 1757, 1784, 1811, 1838, 1865, 1892, 1919, 1946, 1973, 2000, 2027, 2054, 2081, 2108, 2135, 2162, 2189, 2216, 2243, 2270, 2297, 2324, 2351, 2378, 2405, 2432, 2459, 2486, 2513, 2540, 2567, 2594, 2621, 2648, 2675, ...], 'Laois': [3, 30, 57, 84, 111, 138, 165, 192, 219, 246, 273, 300, 327, 354, 381, 408, 435, 462, 489, 516, 543, 570, 597, 624, 651, 678, 705, 732, 759, 786, 813, 840, 867, 894, 921, 948, 975, 1002, 1029, 1056, 1083, 1110, 1137, 1164, 1191, 1218, 1245, 1272, 1299, 1326, 1353, 1380, 1407, 1434, 1461, 1488, 1515, 1542, 1569, 1596, 1623, 1650, 1677, 1704, 1731, 1758, 1785, 1812, 1839, 1866, 1893, 1920, 1947, 1974, 2001, 2028, 2055, 2082, 2109, 2136, 2163, 2190, 2217, 2244, 2271, 2298, 2325, 2352, 2379, 2406, 2433, 2460, 2487, 2514, 2541, 2568, 2595, 2622, 2649, 2676, ...], 'Leitrim': [19, 46, 73, 100, 127, 154, 181, 208, 235, 262, 289, 316, 343, 370, 397, 424, 451, 478, 505, 532, 559, 586, 613, 640, 667, 694, 721, 748, 775, 802, 829, 856, 883, 910, 937, 964, 991, 1018, 1045, 1072, 1099, 1126, 1153, 1180, 1207, 1234, 1261, 1288, 1315, 1342, 1369, 1396, 1423, 1450, 1477, 1504, 1531, 1558, 1585, 1612, 1639, 1666, 1693, 1720, 1747, 1774, 1801, 1828, 1855, 1882, 1909, 1936, 1963, 1990, 2017, 2044, 2071, 2098, 2125, 2152, 2179, 2206, 2233, 2260, 2287, 2314, 2341, 2368, 2395, 2422, 2449, 2476, 2503, 2530, 2557, 2584, 2611, 2638, 2665, 2692, ...], 'Limerick': [14, 41, 68, 95, 122, 149, 176, 203, 230, 257, 284, 311, 338, 365, 392, 419, 446, 473, 500, 527, 554, 581, 608, 635, 662, 689, 716, 743, 770, 797, 824, 851, 878, 905, 932, 959, 986, 1013, 1040, 1067, 1094, 1121, 1148, 1175, 1202, 1229, 1256, 1283, 1310, 1337, 1364, 1391, 1418, 1445, 1472, 1499, 1526, 1553, 1580, 1607, 1634, 1661, 1688, 1715, 1742, 1769, 1796, 1823, 1850, 1877, 1904, 1931, 1958, 1985, 2012, 2039, 2066, 2093, 2120, 2147, 2174, 2201, 2228, 2255, 2282, 2309, 2336, 2363, 2390, 2417, 2444, 2471, 2498, 2525, 2552, 2579, 2606, 2633, 2660, 2687, ...], 'Longford': [4, 31, 58, 85, 112, 139, 166, 193, 220, 247, 274, 301, 328, 355, 382, 409, 436, 463, 490, 517, 544, 571, 598, 625, 652, 679, 706, 733, 760, 787, 814, 841, 868, 895, 922, 949, 976, 1003, 1030, 1057, 1084, 1111, 1138, 1165, 1192, 1219, 1246, 1273, 1300, 1327, 1354, 1381, 1408, 1435, 1462, 1489, 1516, 1543, 1570, 1597, 1624, 1651, 1678, 1705, 1732, 1759, 1786, 1813, 1840, 1867, 1894, 1921, 1948, 1975, 2002, 2029, 2056, 2083, 2110, 2137, 2164, 2191, 2218, 2245, 2272, 2299, 2326, 2353, 2380, 2407, 2434, 2461, 2488, 2515, 2542, 2569, 2596, 2623, 2650, 2677, ...], 'Louth': [5, 32, 59, 86, 113, 140, 167, 194, 221, 248, 275, 302, 329, 356, 383, 410, 437, 464, 491, 518, 545, 572, 599, 626, 653, 680, 707, 734, 761, 788, 815, 842, 869, 896, 923, 950, 977, 1004, 1031, 1058, 1085, 1112, 1139, 1166, 1193, 1220, 1247, 1274, 1301, 1328, 1355, 1382, 1409, 1436, 1463, 1490, 1517, 1544, 1571, 1598, 1625, 1652, 1679, 1706, 1733, 1760, 1787, 1814, 1841, 1868, 1895, 1922, 1949, 1976, 2003, 2030, 2057, 2084, 2111, 2138, 2165, 2192, 2219, 2246, 2273, 2300, 2327, 2354, 2381, 2408, 2435, 2462, 2489, 2516, 2543, 2570, 2597, 2624, 2651, 2678, ...], 'Mayo': [20, 47, 74, 101, 128, 155, 182, 209, 236, 263, 290, 317, 344, 371, 398, 425, 452, 479, 506, 533, 560, 587, 614, 641, 668, 695, 722, 749, 776, 803, 830, 857, 884, 911, 938, 965, 992, 1019, 1046, 1073, 1100, 1127, 1154, 1181, 1208, 1235, 1262, 1289, 1316, 1343, 1370, 1397, 1424, 1451, 1478, 1505, 1532, 1559, 1586, 1613, 1640, 1667, 1694, 1721, 1748, 1775, 1802, 1829, 1856, 1883, 1910, 1937, 1964, 1991, 2018, 2045, 2072, 2099, 2126, 2153, 2180, 2207, 2234, 2261, 2288, 2315, 2342, 2369, 2396, 2423, 2450, 2477, 2504, 2531, 2558, 2585, 2612, 2639, 2666, 2693, ...], 'Meath': [6, 33, 60, 87, 114, 141, 168, 195, 222, 249, 276, 303, 330, 357, 384, 411, 438, 465, 492, 519, 546, 573, 600, 627, 654, 681, 708, 735, 762, 789, 816, 843, 870, 897, 924, 951, 978, 1005, 1032, 1059, 1086, 1113, 1140, 1167, 1194, 1221, 1248, 1275, 1302, 1329, 1356, 1383, 1410, 1437, 1464, 1491, 1518, 1545, 1572, 1599, 1626, 1653, 1680, 1707, 1734, 1761, 1788, 1815, 1842, 1869, 1896, 1923, 1950, 1977, 2004, 2031, 2058, 2085, 2112, 2139, 2166, 2193, 2220, 2247, 2274, 2301, 2328, 2355, 2382, 2409, 2436, 2463, 2490, 2517, 2544, 2571, 2598, 2625, 2652, 2679, ...], 'Monaghan': [25, 52, 79, 106, 133, 160, 187, 214, 241, 268, 295, 322, 349, 376, 403, 430, 457, 484, 511, 538, 565, 592, 619, 646, 673, 700, 727, 754, 781, 808, 835, 862, 889, 916, 943, 970, 997, 1024, 1051, 1078, 1105, 1132, 1159, 1186, 1213, 1240, 1267, 1294, 1321, 1348, 1375, 1402, 1429, 1456, 1483, 1510, 1537, 1564, 1591, 1618, 1645, 1672, 1699, 1726, 1753, 1780, 1807, 1834, 1861, 1888, 1915, 1942, 1969, 1996, 2023, 2050, 2077, 2104, 2131, 2158, 2185, 2212, 2239, 2266, 2293, 2320, 2347, 2374, 2401, 2428, 2455, 2482, 2509, 2536, 2563, 2590, 2617, 2644, 2671, 2698, ...], 'North Tipperary': [15, 42, 69, 96, 123, 150, 177, 204, 231, 258, 285, 312, 339, 366, 393, 420, 447, 474, 501, 528, 555, 582, 609, 636, 663, 690, 717, 744, 771, 798, 825, 852, 879, 906, 933, 960, 987, 1014, 1041, 1068, 1095, 1122, 1149, 1176, 1203, 1230, 1257, 1284, 1311, 1338, 1365, 1392, 1419, 1446, 1473, 1500, 1527, 1554, 1581, 1608, 1635, 1662, 1689, 1716, 1743, 1770, 1797, 1824, 1851, 1878, 1905, 1932, 1959, 1986, 2013, 2040, 2067, 2094, 2121, 2148, 2175, 2202, 2229, 2256, 2283, 2310, 2337, 2364, 2391, 2418, 2445, 2472, 2499, 2526, 2553, 2580, 2607, 2634, 2661, 2688, ...], 'Offaly': [7, 34, 61, 88, 115, 142, 169, 196, 223, 250, 277, 304, 331, 358, 385, 412, 439, 466, 493, 520, 547, 574, 601, 628, 655, 682, 709, 736, 763, 790, 817, 844, 871, 898, 925, 952, 979, 1006, 1033, 1060, 1087, 1114, 1141, 1168, 1195, 1222, 1249, 1276, 1303, 1330, 1357, 1384, 1411, 1438, 1465, 1492, 1519, 1546, 1573, 1600, 1627, 1654, 1681, 1708, 1735, 1762, 1789, 1816, 1843, 1870, 1897, 1924, 1951, 1978, 2005, 2032, 2059, 2086, 2113, 2140, 2167, 2194, 2221, 2248, 2275, 2302, 2329, 2356, 2383, 2410, 2437, 2464, 2491, 2518, 2545, 2572, 2599, 2626, 2653, 2680, ...], 'Roscommon': [21, 48, 75, 102, 129, 156, 183, 210, 237, 264, 291, 318, 345, 372, 399, 426, 453, 480, 507, 534, 561, 588, 615, 642, 669, 696, 723, 750, 777, 804, 831, 858, 885, 912, 939, 966, 993, 1020, 1047, 1074, 1101, 1128, 1155, 1182, 1209, 1236, 1263, 1290, 1317, 1344, 1371, 1398, 1425, 1452, 1479, 1506, 1533, 1560, 1587, 1614, 1641, 1668, 1695, 1722, 1749, 1776, 1803, 1830, 1857, 1884, 1911, 1938, 1965, 1992, 2019, 2046, 2073, 2100, 2127, 2154, 2181, 2208, 2235, 2262, 2289, 2316, 2343, 2370, 2397, 2424, 2451, 2478, 2505, 2532, 2559, 2586, 2613, 2640, 2667, 2694, ...], 'Sligo': [22, 49, 76, 103, 130, 157, 184, 211, 238, 265, 292, 319, 346, 373, 400, 427, 454, 481, 508, 535, 562, 589, 616, 643, 670, 697, 724, 751, 778, 805, 832, 859, 886, 913, 940, 967, 994, 1021, 1048, 1075, 1102, 1129, 1156, 1183, 1210, 1237, 1264, 1291, 1318, 1345, 1372, 1399, 1426, 1453, 1480, 1507, 1534, 1561, 1588, 1615, 1642, 1669, 1696, 1723, 1750, 1777, 1804, 1831, 1858, 1885, 1912, 1939, 1966, 1993, 2020, 2047, 2074, 2101, 2128, 2155, 2182, 2209, 2236, 2263, 2290, 2317, 2344, 2371, 2398, 2425, 2452, 2479, 2506, 2533, 2560, 2587, 2614, 2641, 2668, 2695, ...], 'South Tipperary': [16, 43, 70, 97, 124, 151, 178, 205, 232, 259, 286, 313, 340, 367, 394, 421, 448, 475, 502, 529, 556, 583, 610, 637, 664, 691, 718, 745, 772, 799, 826, 853, 880, 907, 934, 961, 988, 1015, 1042, 1069, 1096, 1123, 1150, 1177, 1204, 1231, 1258, 1285, 1312, 1339, 1366, 1393, 1420, 1447, 1474, 1501, 1528, 1555, 1582, 1609, 1636, 1663, 1690, 1717, 1744, 1771, 1798, 1825, 1852, 1879, 1906, 1933, 1960, 1987, 2014, 2041, 2068, 2095, 2122, 2149, 2176, 2203, 2230, 2257, 2284, 2311, 2338, 2365, 2392, 2419, 2446, 2473, 2500, 2527, 2554, 2581, 2608, 2635, 2662, 2689, ...], 'Waterford': [17, 44, 71, 98, 125, 152, 179, 206, 233, 260, 287, 314, 341, 368, 395, 422, 449, 476, 503, 530, 557, 584, 611, 638, 665, 692, 719, 746, 773, 800, 827, 854, 881, 908, 935, 962, 989, 1016, 1043, 1070, 1097, 1124, 1151, 1178, 1205, 1232, 1259, 1286, 1313, 1340, 1367, 1394, 1421, 1448, 1475, 1502, 1529, 1556, 1583, 1610, 1637, 1664, 1691, 1718, 1745, 1772, 1799, 1826, 1853, 1880, 1907, 1934, 1961, 1988, 2015, 2042, 2069, 2096, 2123, 2150, 2177, 2204, 2231, 2258, 2285, 2312, 2339, 2366, 2393, 2420, 2447, 2474, 2501, 2528, 2555, 2582, 2609, 2636, 2663, 2690, ...], 'Westmeath': [8, 35, 62, 89, 116, 143, 170, 197, 224, 251, 278, 305, 332, 359, 386, 413, 440, 467, 494, 521, 548, 575, 602, 629, 656, 683, 710, 737, 764, 791, 818, 845, 872, 899, 926, 953, 980, 1007, 1034, 1061, 1088, 1115, 1142, 1169, 1196, 1223, 1250, 1277, 1304, 1331, 1358, 1385, 1412, 1439, 1466, 1493, 1520, 1547, 1574, 1601, 1628, 1655, 1682, 1709, 1736, 1763, 1790, 1817, 1844, 1871, 1898, 1925, 1952, 1979, 2006, 2033, 2060, 2087, 2114, 2141, 2168, 2195, 2222, 2249, 2276, 2303, 2330, 2357, 2384, 2411, 2438, 2465, 2492, 2519, 2546, 2573, 2600, 2627, 2654, 2681, ...], 'Wexford': [9, 36, 63, 90, 117, 144, 171, 198, 225, 252, 279, 306, 333, 360, 387, 414, 441, 468, 495, 522, 549, 576, 603, 630, 657, 684, 711, 738, 765, 792, 819, 846, 873, 900, 927, 954, 981, 1008, 1035, 1062, 1089, 1116, 1143, 1170, 1197, 1224, 1251, 1278, 1305, 1332, 1359, 1386, 1413, 1440, 1467, 1494, 1521, 1548, 1575, 1602, 1629, 1656, 1683, 1710, 1737, 1764, 1791, 1818, 1845, 1872, 1899, 1926, 1953, 1980, 2007, 2034, 2061, 2088, 2115, 2142, 2169, 2196, 2223, 2250, 2277, 2304, 2331, 2358, 2385, 2412, 2439, 2466, 2493, 2520, 2547, 2574, 2601, 2628, 2655, 2682, ...], 'Wicklow': [10, 37, 64, 91, 118, 145, 172, 199, 226, 253, 280, 307, 334, 361, 388, 415, 442, 469, 496, 523, 550, 577, 604, 631, 658, 685, 712, 739, 766, 793, 820, 847, 874, 901, 928, 955, 982, 1009, 1036, 1063, 1090, 1117, 1144, 1171, 1198, 1225, 1252, 1279, 1306, 1333, 1360, 1387, 1414, 1441, 1468, 1495, 1522, 1549, 1576, 1603, 1630, 1657, 1684, 1711, 1738, 1765, 1792, 1819, 1846, 1873, 1900, 1927, 1954, 1981, 2008, 2035, 2062, 2089, 2116, 2143, 2170, 2197, 2224, 2251, 2278, 2305, 2332, 2359, 2386, 2413, 2440, 2467, 2494, 2521, 2548, 2575, 2602, 2629, 2656, 2683, ...]}\n"
     ]
    }
   ],
   "source": [
    "AREA = Mortality_rate.groupby(['Area'])\n",
    "print(AREA.groups)"
   ]
  },
  {
   "cell_type": "code",
   "execution_count": 39,
   "id": "1312065f",
   "metadata": {},
   "outputs": [],
   "source": [
    "from scipy.stats import skew"
   ]
  },
  {
   "cell_type": "code",
   "execution_count": 41,
   "id": "12ac3050",
   "metadata": {},
   "outputs": [
    {
     "data": {
      "text/html": [
       "<div>\n",
       "<style scoped>\n",
       "    .dataframe tbody tr th:only-of-type {\n",
       "        vertical-align: middle;\n",
       "    }\n",
       "\n",
       "    .dataframe tbody tr th {\n",
       "        vertical-align: top;\n",
       "    }\n",
       "\n",
       "    .dataframe thead th {\n",
       "        text-align: right;\n",
       "    }\n",
       "</style>\n",
       "<table border=\"1\" class=\"dataframe\">\n",
       "  <thead>\n",
       "    <tr style=\"text-align: right;\">\n",
       "      <th></th>\n",
       "      <th>Year</th>\n",
       "      <th>Age Range</th>\n",
       "      <th>Principal Cause of Death</th>\n",
       "      <th>Area</th>\n",
       "      <th>Number</th>\n",
       "      <th>Rate</th>\n",
       "    </tr>\n",
       "  </thead>\n",
       "  <tbody>\n",
       "    <tr>\n",
       "      <th>0</th>\n",
       "      <td>1980</td>\n",
       "      <td>Infant (0-1 year)</td>\n",
       "      <td>Infectious and parasitic diseases</td>\n",
       "      <td>Dublin City and County</td>\n",
       "      <td>5.000</td>\n",
       "      <td>0.2400</td>\n",
       "    </tr>\n",
       "    <tr>\n",
       "      <th>1</th>\n",
       "      <td>1980</td>\n",
       "      <td>Infant (0-1 year)</td>\n",
       "      <td>Infectious and parasitic diseases</td>\n",
       "      <td>Kildare</td>\n",
       "      <td>3.000</td>\n",
       "      <td>0.4750</td>\n",
       "    </tr>\n",
       "    <tr>\n",
       "      <th>2</th>\n",
       "      <td>1980</td>\n",
       "      <td>Infant (0-1 year)</td>\n",
       "      <td>Infectious and parasitic diseases</td>\n",
       "      <td>Kilkenny</td>\n",
       "      <td>1.000</td>\n",
       "      <td>0.7100</td>\n",
       "    </tr>\n",
       "    <tr>\n",
       "      <th>3</th>\n",
       "      <td>1980</td>\n",
       "      <td>Infant (0-1 year)</td>\n",
       "      <td>Infectious and parasitic diseases</td>\n",
       "      <td>Laois</td>\n",
       "      <td>1.000</td>\n",
       "      <td>0.6450</td>\n",
       "    </tr>\n",
       "    <tr>\n",
       "      <th>4</th>\n",
       "      <td>1980</td>\n",
       "      <td>Infant (0-1 year)</td>\n",
       "      <td>Infectious and parasitic diseases</td>\n",
       "      <td>Longford</td>\n",
       "      <td>1.000</td>\n",
       "      <td>0.5800</td>\n",
       "    </tr>\n",
       "    <tr>\n",
       "      <th>...</th>\n",
       "      <td>...</td>\n",
       "      <td>...</td>\n",
       "      <td>...</td>\n",
       "      <td>...</td>\n",
       "      <td>...</td>\n",
       "      <td>...</td>\n",
       "    </tr>\n",
       "    <tr>\n",
       "      <th>33690</th>\n",
       "      <td>2018</td>\n",
       "      <td>4 weeks to 1 year</td>\n",
       "      <td>Sudden infant death syndrome</td>\n",
       "      <td>Roscommon</td>\n",
       "      <td>1.000</td>\n",
       "      <td>1.0425</td>\n",
       "    </tr>\n",
       "    <tr>\n",
       "      <th>33691</th>\n",
       "      <td>2018</td>\n",
       "      <td>4 weeks to 1 year</td>\n",
       "      <td>Sudden infant death syndrome</td>\n",
       "      <td>Sligo</td>\n",
       "      <td>1.000</td>\n",
       "      <td>1.2900</td>\n",
       "    </tr>\n",
       "    <tr>\n",
       "      <th>33692</th>\n",
       "      <td>2018</td>\n",
       "      <td>4 weeks to 1 year</td>\n",
       "      <td>Sudden infant death syndrome</td>\n",
       "      <td>Cavan</td>\n",
       "      <td>0.848</td>\n",
       "      <td>1.2900</td>\n",
       "    </tr>\n",
       "    <tr>\n",
       "      <th>33693</th>\n",
       "      <td>2018</td>\n",
       "      <td>4 weeks to 1 year</td>\n",
       "      <td>Sudden infant death syndrome</td>\n",
       "      <td>Donegal</td>\n",
       "      <td>0.696</td>\n",
       "      <td>1.2900</td>\n",
       "    </tr>\n",
       "    <tr>\n",
       "      <th>33694</th>\n",
       "      <td>2018</td>\n",
       "      <td>4 weeks to 1 year</td>\n",
       "      <td>Sudden infant death syndrome</td>\n",
       "      <td>Monaghan</td>\n",
       "      <td>0.544</td>\n",
       "      <td>1.2900</td>\n",
       "    </tr>\n",
       "  </tbody>\n",
       "</table>\n",
       "<p>33695 rows × 6 columns</p>\n",
       "</div>"
      ],
      "text/plain": [
       "       Year          Age Range           Principal Cause of Death  \\\n",
       "0      1980  Infant (0-1 year)  Infectious and parasitic diseases   \n",
       "1      1980  Infant (0-1 year)  Infectious and parasitic diseases   \n",
       "2      1980  Infant (0-1 year)  Infectious and parasitic diseases   \n",
       "3      1980  Infant (0-1 year)  Infectious and parasitic diseases   \n",
       "4      1980  Infant (0-1 year)  Infectious and parasitic diseases   \n",
       "...     ...                ...                                ...   \n",
       "33690  2018  4 weeks to 1 year       Sudden infant death syndrome   \n",
       "33691  2018  4 weeks to 1 year       Sudden infant death syndrome   \n",
       "33692  2018  4 weeks to 1 year       Sudden infant death syndrome   \n",
       "33693  2018  4 weeks to 1 year       Sudden infant death syndrome   \n",
       "33694  2018  4 weeks to 1 year       Sudden infant death syndrome   \n",
       "\n",
       "                         Area  Number    Rate  \n",
       "0      Dublin City and County   5.000  0.2400  \n",
       "1                     Kildare   3.000  0.4750  \n",
       "2                    Kilkenny   1.000  0.7100  \n",
       "3                       Laois   1.000  0.6450  \n",
       "4                    Longford   1.000  0.5800  \n",
       "...                       ...     ...     ...  \n",
       "33690               Roscommon   1.000  1.0425  \n",
       "33691                   Sligo   1.000  1.2900  \n",
       "33692                   Cavan   0.848  1.2900  \n",
       "33693                 Donegal   0.696  1.2900  \n",
       "33694                Monaghan   0.544  1.2900  \n",
       "\n",
       "[33695 rows x 6 columns]"
      ]
     },
     "execution_count": 41,
     "metadata": {},
     "output_type": "execute_result"
    }
   ],
   "source": [
    "Mortality_rate"
   ]
  },
  {
   "cell_type": "code",
   "execution_count": 43,
   "id": "3050d43c",
   "metadata": {},
   "outputs": [
    {
     "data": {
      "text/plain": [
       "array([0.3129492 , 0.30247383, 0.36033946, ..., 0.44527374, 0.8789857 ,\n",
       "       0.5245518 ])"
      ]
     },
     "execution_count": 43,
     "metadata": {},
     "output_type": "execute_result"
    }
   ],
   "source": [
    "from scipy.stats import norm\n",
    "Mortality_norm =norm.rvs(size=len(Mortality_rate), loc=0, scale=1)\n",
    "Mortality_norm"
   ]
  },
  {
   "cell_type": "code",
   "execution_count": 44,
   "id": "ae80c3b5",
   "metadata": {},
   "outputs": [
    {
     "data": {
      "text/plain": [
       "(array([  38.,  422., 2061., 6058., 9838., 9104., 4576., 1357.,  223.,\n",
       "          18.]),\n",
       " array([-3.77329646, -2.99339871, -2.21350096, -1.4336032 , -0.65370545,\n",
       "         0.1261923 ,  0.90609006,  1.68598781,  2.46588556,  3.24578331,\n",
       "         4.02568107]),\n",
       " <BarContainer object of 10 artists>)"
      ]
     },
     "execution_count": 44,
     "metadata": {},
     "output_type": "execute_result"
    },
    {
     "data": {
      "image/png": "[encoded data removed]",
      "text/plain": [
       "<Figure size 640x480 with 1 Axes>"
      ]
     },
     "metadata": {},
     "output_type": "display_data"
    }
   ],
   "source": [
    "plt.hist(Mortality_norm)"
   ]
  },
  {
   "cell_type": "code",
   "execution_count": 45,
   "id": "cf062274",
   "metadata": {},
   "outputs": [
    {
     "data": {
      "text/plain": [
       "[Text(0.5, 0, 'Normal distribution'), Text(0, 0.5, 'Frequency')]"
      ]
     },
     "execution_count": 45,
     "metadata": {},
     "output_type": "execute_result"
    },
    {
     "data": {
      "image/png": "[encoded data removed]",
      "text/plain": [
       "<Figure size 640x480 with 1 Axes>"
      ]
     },
     "metadata": {},
     "output_type": "display_data"
    }
   ],
   "source": [
    "ax=sns.distplot(Mortality_norm, bins =100, kde=True, color=\"red\", hist_kws={\"linewidth\":1,\"alpha\":1})\n",
    "ax.set(xlabel=\"Normal distribution\", ylabel =\"Frequency\") "
   ]
  },
  {
   "cell_type": "code",
   "execution_count": 46,
   "id": "f1d36a39",
   "metadata": {},
   "outputs": [
    {
     "data": {
      "image/png": "[encoded data removed]",
      "text/plain": [
       "<Figure size 640x480 with 1 Axes>"
      ]
     },
     "metadata": {},
     "output_type": "display_data"
    }
   ],
   "source": [
    "import pylab\n",
    "import scipy.stats as stats\n",
    "\n",
    "stats.probplot(Mortality_norm, dist =\"norm\", plot=pylab)\n",
    "pylab.show()"
   ]
  },
  {
   "cell_type": "code",
   "execution_count": null,
   "id": "0249b36b",
   "metadata": {},
   "outputs": [],
   "source": []
  }
 ],
 "metadata": {
  "kernelspec": {
   "display_name": "Python 3 (ipykernel)",
   "language": "python",
   "name": "python3"
  },
  "language_info": {
   "codemirror_mode": {
    "name": "ipython",
    "version": 3
   },
   "file_extension": ".py",
   "mimetype": "text/x-python",
   "name": "python",
   "nbconvert_exporter": "python",
   "pygments_lexer": "ipython3",
   "version": "3.11.5"
  }
 },
 "nbformat": 4,
 "nbformat_minor": 5
}
